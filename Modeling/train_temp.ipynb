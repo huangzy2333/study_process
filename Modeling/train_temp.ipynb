{
 "cells": [
  {
   "cell_type": "code",
   "execution_count": 1,
   "id": "67fdd490",
   "metadata": {},
   "outputs": [],
   "source": [
    "import torch\n",
    "import torch.nn as nn\n",
    "from torch.utils.data import Dataset,DataLoader,TensorDataset\n",
    "from torchvision import models"
   ]
  },
  {
   "cell_type": "code",
   "execution_count": null,
   "id": "4cb4a27c",
   "metadata": {},
   "outputs": [],
   "source": [
    "train_loader = DataLoader(dataset=TensorDataset(train_data,train_labels),\n",
    "                         batch_size=batch_size,\n",
    "                         shuffle=True) #还可以加num_workers=4,dataloader一次性创建num_worker个工作进程，加速\n",
    "test_loader = DataLoader(dataset=TensorDataset(test_data,test_labels),\n",
    "                        batch_size=batch_size,\n",
    "                        shuffle=False)"
   ]
  },
  {
   "cell_type": "code",
   "execution_count": null,
   "id": "cf69ed2a",
   "metadata": {},
   "outputs": [],
   "source": [
    "epochs = 25\n",
    "BestEpoch = 0\n",
    "BestSim = 0\n",
    "\n",
    "model = models.resnet34(pretrained=True)\n",
    "model = torch.compile(model) #模型加速\n"
   ]
  },
  {
   "cell_type": "code",
   "execution_count": null,
   "id": "0135b9b1",
   "metadata": {},
   "outputs": [],
   "source": [
    "criterion = nn.NLLLoss()\n",
    "optimizer = torch.optim.AdamW(model.parameters(),lr=1e-4)\n",
    "'''\n",
    "optimizer = optim.Adam(filter(lambda p: p.requires_grad, model.parameters()), lr=0.0001, weight_decay=1e-5)\n",
    "\n",
    "for循环以上的参数固定, 只训练下面的参数\n",
    "for p in moddel.parameters():\n",
    "    p.requires_grad = False\n",
    "'''"
   ]
  },
  {
   "cell_type": "markdown",
   "id": "ff703273",
   "metadata": {},
   "source": [
    "#### 训练循环"
   ]
  },
  {
   "cell_type": "code",
   "execution_count": null,
   "id": "775d493f",
   "metadata": {},
   "outputs": [],
   "source": [
    "#model.train()的作用是启用 Batch Normalization 和 Dropout\n",
    "#model.eval()的作用是不启用 Batch Normalization 和 Dropout\n",
    "for epoch in range(epochs):\n",
    "    epoch_loss = 0\n",
    "    for i,batch_data in enumerate(tqdm(train_loader)):\n",
    "        batch_inputs,batch_labels = batch_data\n",
    "        batch_inputs,batch_labels = batch_inputs.to(device),batch_labels.to(device)\n",
    "        \n",
    "        pred = model(batch_inputs)\n",
    "        \n",
    "        loss = criterion(pred,batch_lables)\n",
    "        \n",
    "        optimizer.zero_grad()\n",
    "        \n",
    "        loss.backward()\n",
    "        optimizer.step()\n",
    "        \n",
    "        epoch_loss += loss.item()\n",
    "    epoch_loss /= len(train_loader)\n",
    "    print(f\"epoch: {epoch}, training loss: {epoch_loss}\")\n",
    "    \n",
    "    '''test loss'''\n",
    "    epoch_loss = 0\n",
    "    with torch.no_grad():\n",
    "        for batch_inputs,batch_labels in tqdm(test_loader):\n",
    "            batch_inputs,batch_labels = batch_inputs.to(device),batch_labels.to(device)\n",
    "            pred = model(batch_inputs)\n",
    "            loss = criterion(pred,batch_labels)\n",
    "            epoch_loss += loss.item()\n",
    "        epoch_loss /= len(train_loader)\n",
    "        print(f\"epoch: {epoch}, test loss: {epoch_loss}\")\n",
    "        \n",
    "    if epoch_loss > BestSim:\n",
    "        BestSim = epoch_loss\n",
    "        BestEpoch = epoch + 1\n",
    "        print(f\"save best model at {BestSim} with epoch {BestEpoch}\")\n",
    "        torch.save(model.state_dict(),'checkpoint_model.pt')\n",
    "        \n",
    "    if epoch - 3 > BestEpoch:\n",
    "        print(f\"Early stop at {epoch+1} with best epoch {BestEpoch} and test similarity {BestSim}.\")\n",
    "        break\n",
    "        \n",
    "        "
   ]
  },
  {
   "cell_type": "code",
   "execution_count": null,
   "id": "9002be85",
   "metadata": {},
   "outputs": [],
   "source": []
  },
  {
   "cell_type": "code",
   "execution_count": null,
   "id": "aebf5b9c",
   "metadata": {},
   "outputs": [],
   "source": []
  }
 ],
 "metadata": {
  "kernelspec": {
   "display_name": "Python 3 (ipykernel)",
   "language": "python",
   "name": "python3"
  },
  "language_info": {
   "codemirror_mode": {
    "name": "ipython",
    "version": 3
   },
   "file_extension": ".py",
   "mimetype": "text/x-python",
   "name": "python",
   "nbconvert_exporter": "python",
   "pygments_lexer": "ipython3",
   "version": "3.9.12"
  }
 },
 "nbformat": 4,
 "nbformat_minor": 5
}
